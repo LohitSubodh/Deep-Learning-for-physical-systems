{
  "nbformat": 4,
  "nbformat_minor": 0,
  "metadata": {
    "colab": {
      "name": "Regression&PCA_2017meb1219.ipynb",
      "provenance": [],
      "collapsed_sections": [],
      "authorship_tag": "ABX9TyPCHXAA+1x73A7qrQpc0eCz",
      "include_colab_link": true
    },
    "kernelspec": {
      "name": "python3",
      "display_name": "Python 3"
    }
  },
  "cells": [
    {
      "cell_type": "markdown",
      "metadata": {
        "id": "view-in-github",
        "colab_type": "text"
      },
      "source": [
        "<a href=\"https://colab.research.google.com/github/LohitSubodh/Optimization/blob/main/Regression%26PCA_2017meb1219.ipynb\" target=\"_parent\"><img src=\"https://colab.research.google.com/assets/colab-badge.svg\" alt=\"Open In Colab\"/></a>"
      ]
    },
    {
      "cell_type": "markdown",
      "metadata": {
        "id": "f1VDhwrL8mJg"
      },
      "source": [
        "# ME504 Assignment-2 \n",
        "### Submitted by\n",
        "### Lohit Subodh (2017meb1219)"
      ]
    },
    {
      "cell_type": "markdown",
      "metadata": {
        "id": "q5AFrnZ39ADq"
      },
      "source": [
        "# (1) Polynomial Regression"
      ]
    },
    {
      "cell_type": "code",
      "metadata": {
        "id": "PsKOVd42m5Ju"
      },
      "source": [
        "import torch\n",
        "import numpy as np\n",
        "import matplotlib.pyplot as plt\n"
      ],
      "execution_count": null,
      "outputs": []
    },
    {
      "cell_type": "markdown",
      "metadata": {
        "id": "iQwXdUWubsyK"
      },
      "source": [
        "Taking mass and stiffness constant as last two digits  and first two digits of my rollno. respectively."
      ]
    },
    {
      "cell_type": "code",
      "metadata": {
        "id": "_d72h1XZnXxg"
      },
      "source": [
        "mass=19\n",
        "stiffness_constant=12"
      ],
      "execution_count": null,
      "outputs": []
    },
    {
      "cell_type": "code",
      "metadata": {
        "id": "gu_J_i1IoNOn",
        "outputId": "92c5e67d-1f2e-4e9d-97eb-508128657458",
        "colab": {
          "base_uri": "https://localhost:8080/",
          "height": 34
        }
      },
      "source": [
        "# Calculating the omega\n",
        "import math  \n",
        "w=math.sqrt(stiffness_constant/mass)\n",
        "print(w)"
      ],
      "execution_count": null,
      "outputs": [
        {
          "output_type": "stream",
          "text": [
            "0.7947194142390263\n"
          ],
          "name": "stdout"
        }
      ]
    },
    {
      "cell_type": "code",
      "metadata": {
        "id": "o8BXsZ2OuepV",
        "outputId": "485a4c63-3e71-459e-f0db-1fb6e8802562",
        "colab": {
          "base_uri": "https://localhost:8080/",
          "height": 34
        }
      },
      "source": [
        "# Generating input values from 0 to 2pi\n",
        "import random\n",
        "x=np.arange(0,2*math.pi,0.01)\n",
        "x=torch.tensor(x).float()\n",
        "print(type(x))"
      ],
      "execution_count": null,
      "outputs": [
        {
          "output_type": "stream",
          "text": [
            "<class 'torch.Tensor'>\n"
          ],
          "name": "stdout"
        }
      ]
    },
    {
      "cell_type": "code",
      "metadata": {
        "id": "OP0QKFz1puVp"
      },
      "source": [
        "# Defining initial conditions\n",
        "initial_displacement=2\n",
        "initial_velocity=0"
      ],
      "execution_count": null,
      "outputs": []
    },
    {
      "cell_type": "code",
      "metadata": {
        "id": "lWqkjMtsJpvx"
      },
      "source": [
        "# Generating noise from normal distribution\n",
        "e=np.random.normal(0.02,2, x.shape[0])"
      ],
      "execution_count": null,
      "outputs": []
    },
    {
      "cell_type": "code",
      "metadata": {
        "id": "F7Ldr5W9LT68",
        "outputId": "86c26e61-4008-4bd2-9e63-d8388a38463e",
        "colab": {
          "base_uri": "https://localhost:8080/",
          "height": 1000
        }
      },
      "source": [
        "print(e)"
      ],
      "execution_count": null,
      "outputs": [
        {
          "output_type": "stream",
          "text": [
            "[ 6.53357588e-01  2.24811576e+00 -3.42342654e+00 -3.29415849e+00\n",
            "  1.45513345e+00  4.80363287e-01  1.52052620e+00 -9.45158630e-01\n",
            "  9.86602086e-01  1.78178471e+00  2.73062894e+00  1.29538070e+00\n",
            "  5.12728430e+00  1.23784535e+00  1.65137538e+00 -2.52465809e+00\n",
            " -2.24268155e+00 -1.23029633e+00 -2.20989726e+00  5.08180508e-01\n",
            "  1.21443522e-01  2.22103863e+00  7.89726240e-01  1.12783038e+00\n",
            " -6.01282056e-01 -1.88634826e-01 -3.54520678e+00 -2.48431678e+00\n",
            " -4.41450435e-01  1.89942783e+00  3.04874214e-01  3.16500321e+00\n",
            " -2.00511769e+00  6.99696301e-01 -2.07650055e+00  1.63883462e+00\n",
            "  8.69725478e-03  1.55615346e-01 -3.31112409e-01 -2.59305308e-01\n",
            " -2.35932452e+00 -6.32571862e-01  3.64531740e-01 -6.16758106e-02\n",
            " -1.38682986e+00  2.01342636e+00 -2.58707872e+00 -1.15017836e+00\n",
            " -1.60859754e+00 -1.19330914e+00  4.09285509e+00  8.80107415e-01\n",
            "  1.57255893e+00 -1.49575786e+00  1.17543293e+00 -5.77136908e+00\n",
            " -1.98998456e+00  2.28195431e+00  5.03891289e-01  3.82387995e+00\n",
            " -3.14722345e-01 -1.02557805e-01 -1.85560366e+00  1.13086872e+00\n",
            " -6.83986456e-01 -1.37953637e+00  1.57951392e-01 -2.47243826e-01\n",
            " -2.65058315e+00  4.48797543e+00  1.07434680e+00 -1.53791182e+00\n",
            "  3.23590189e+00  3.30998477e+00 -1.04638892e+00  1.18568445e+00\n",
            " -5.37443454e-02  4.84403178e-01 -3.69957153e+00  1.50793121e+00\n",
            "  6.89624408e-02 -2.40706077e+00  3.09339655e+00 -3.19277108e+00\n",
            " -1.17091401e+00  6.31748453e-01 -3.81583674e-02 -4.15284863e+00\n",
            "  1.54891959e+00 -1.28197446e+00  1.42632581e-01 -1.71998048e+00\n",
            " -2.37413320e+00 -1.70786549e+00 -1.09025896e-01 -2.03317956e+00\n",
            "  1.76837296e+00  2.04833386e+00  2.80307249e+00 -1.73530386e+00\n",
            " -1.74845071e+00  3.92696976e-01  8.00210691e-01  3.01221429e+00\n",
            " -4.94803466e-02  2.23938824e+00 -1.49594504e+00 -4.61096012e+00\n",
            " -1.85857289e+00  2.51870754e+00  3.22835043e+00 -1.56458869e+00\n",
            " -1.01860830e+00 -1.60855079e-01 -2.00913702e+00 -4.20766371e+00\n",
            " -5.49054604e-01  1.07567095e+00 -2.35673485e+00 -1.07442516e+00\n",
            "  2.24473033e+00 -1.33226524e+00  1.47404380e+00 -6.84831686e-01\n",
            "  6.77402934e-01 -1.98012230e+00 -1.26940353e+00 -1.69053971e+00\n",
            " -2.09017694e+00 -5.61825451e-01  6.46876773e-03 -6.57368040e-01\n",
            " -2.01996187e+00  2.59905121e+00  2.17812340e+00 -4.77244511e-01\n",
            "  3.25755200e+00  6.18426836e-02 -7.49327382e-01  6.24726306e-01\n",
            "  6.80789016e-01  7.10786579e-01  3.02260566e+00 -1.54535914e+00\n",
            " -2.45446718e+00 -1.16394583e+00 -2.96239124e+00  1.22212683e+00\n",
            "  5.02199848e+00 -1.17502901e+00 -2.65258142e+00  7.51722072e-02\n",
            " -3.68928533e+00 -4.81575664e-01 -2.84378382e-01  3.00678241e+00\n",
            " -1.49130574e+00 -2.10492521e+00 -1.01097024e+00  1.69003511e+00\n",
            "  1.71909371e+00 -2.24796434e+00 -1.22670697e+00 -6.15411839e-01\n",
            " -2.12761659e+00 -1.40524526e+00 -2.86352287e-01 -1.04295813e+00\n",
            " -5.80793743e+00  5.12696734e-01 -1.79637534e+00  2.32276382e+00\n",
            "  1.83683664e+00 -7.75750733e-01  1.69554430e+00 -9.58053417e-01\n",
            " -2.61128615e+00  1.75868537e+00 -2.18213352e+00 -1.10459513e-01\n",
            "  4.89022643e-01  7.79052752e-01  1.23898428e+00  3.54177742e+00\n",
            " -2.11549818e+00 -1.08908027e+00  4.24737655e+00  2.75563406e+00\n",
            " -6.82484820e-01 -1.13791829e+00  1.23222977e+00 -7.05866947e-01\n",
            "  2.87507162e-02 -1.22077455e-01  1.85248255e+00 -8.52510949e-01\n",
            " -5.65479147e-01  2.87477421e+00 -3.39105304e+00 -2.83193025e-01\n",
            "  1.73778350e+00 -1.66914982e+00  2.23994671e+00 -4.74205086e-01\n",
            "  3.41506443e+00 -9.49106405e-01  1.42951974e+00 -5.86803571e-02\n",
            " -5.85805948e-01 -4.60919967e-02  1.87923540e-01  4.41751661e+00\n",
            " -3.95905542e+00 -1.88602015e+00 -9.69258253e-01 -2.25347897e+00\n",
            " -3.31321404e+00 -5.50593159e+00  5.71757499e+00  2.31862510e+00\n",
            " -1.46919811e+00 -7.55324522e-02  1.35093690e+00 -1.08036376e-01\n",
            " -9.14231418e-01  2.08095026e+00  9.33861319e-02  9.47987474e-01\n",
            "  1.74327092e+00  7.74868823e-03  9.69508585e-01  4.48450476e-01\n",
            "  2.26910518e+00 -1.31091221e+00 -1.23914184e+00 -4.10208761e-01\n",
            "  7.58161391e-01  1.49958878e+00  2.61318917e+00 -1.93292123e+00\n",
            "  2.03892687e+00 -1.39568760e+00 -8.36767962e-01 -5.55492179e-02\n",
            " -1.18987786e+00 -1.74655096e+00 -1.52013752e+00 -2.58455039e+00\n",
            " -1.66456091e+00 -2.43115502e+00  1.57382356e+00  3.57898613e+00\n",
            " -1.78114691e+00 -1.08870474e+00  8.38315753e-01  4.87116210e+00\n",
            " -7.60238540e-01 -3.44677458e+00  1.81272869e+00 -2.59718968e+00\n",
            " -6.41059347e-01  4.68386231e+00 -3.52211286e-01 -1.33891234e+00\n",
            "  7.00207862e-01  1.43742006e+00 -3.83306968e+00 -1.32509471e+00\n",
            "  7.52461333e-01  1.05621750e+00 -4.33811448e+00 -3.02476527e+00\n",
            "  3.57946556e-01  1.60954663e+00  2.27416399e+00 -1.43571837e+00\n",
            " -2.84195431e-02 -4.08499690e+00  3.61742742e+00  2.56411519e+00\n",
            "  6.73731488e-01  5.16989670e-01 -2.41838078e-01 -1.74380883e+00\n",
            " -3.71476316e+00  2.51819131e+00  2.00548361e-02 -1.91646803e+00\n",
            "  3.30317203e+00  5.23328945e-01  1.54008708e-01  1.03105407e+00\n",
            " -6.28956280e-01 -3.30883805e+00  1.78006502e+00  1.28177935e-01\n",
            "  2.80839126e+00 -1.33976230e+00 -6.03340918e-01 -1.86981064e+00\n",
            " -2.00821828e-01  3.59031200e+00 -2.56116949e+00 -1.10003517e+00\n",
            " -1.44587545e+00 -2.21859983e+00 -1.22699860e+00 -1.33352440e+00\n",
            "  1.40001496e+00  4.32066146e+00  2.64134850e+00 -1.62627573e+00\n",
            "  2.03765458e+00  4.93486518e+00 -2.62042353e+00  4.77077204e+00\n",
            " -1.33138089e+00 -1.33475298e+00  1.27760509e+00 -3.45109927e+00\n",
            "  6.40359175e-02  2.86475766e-01  2.65990804e+00 -1.05332301e+00\n",
            " -8.88107111e-01 -5.27966372e-02 -1.05065173e+00  1.51588517e+00\n",
            "  4.47065806e-01  9.80301984e-01  1.43267985e+00 -2.18188817e+00\n",
            "  3.47142311e-01 -1.20829415e+00  9.15141295e-01  2.22071631e+00\n",
            "  2.37628132e+00  2.72690762e+00 -2.03640156e+00 -1.36749762e+00\n",
            " -1.11236930e+00 -1.56939877e+00  1.01014318e+00 -1.72451405e+00\n",
            "  8.28926356e-02 -7.32430967e-01 -1.42867517e+00 -2.11181979e+00\n",
            " -8.51249309e-01  1.75852986e-01  3.12307368e+00  1.42192893e+00\n",
            " -5.59165911e-01  3.13863244e-01  1.07890909e+00  1.05728029e+00\n",
            " -8.51731631e-01  3.74506150e+00 -1.39749581e+00 -1.22018877e-01\n",
            " -1.88029847e+00 -8.48051649e-01  3.05525949e+00  2.31506370e-02\n",
            "  9.29689960e-01  3.78928753e+00  4.33624969e-01 -2.36724829e+00\n",
            "  1.86096762e+00 -5.78426426e-01  2.80969298e-01 -1.61541727e+00\n",
            " -1.20638886e+00  1.87943472e-01 -2.16165796e+00  2.06558178e+00\n",
            "  5.04260593e-01  1.59287512e+00 -2.00592790e+00 -3.76308643e+00\n",
            " -4.16285382e+00  1.37422394e+00 -2.17002157e+00 -6.09275551e-01\n",
            " -1.64184938e+00  4.17125264e+00  1.35880716e+00 -2.48456898e+00\n",
            " -1.02053526e+00 -1.18388914e+00  2.55044906e+00 -2.79384528e+00\n",
            " -1.73915100e+00 -1.79308326e-01  2.00472861e+00 -1.25237258e+00\n",
            "  4.16733104e+00  7.55063106e-01  9.04336355e-01 -4.61234097e-01\n",
            " -7.29136420e-01 -1.29839559e+00  4.07517280e+00 -1.88949866e+00\n",
            " -1.92346840e+00  1.62426914e-01  6.21797566e-01  2.13660938e+00\n",
            " -5.24919104e-01 -5.13827923e-01  5.14155475e-02  3.08765926e-01\n",
            "  3.40138719e+00 -8.02763688e-01 -1.79110474e+00  1.52981174e-02\n",
            " -1.25055374e+00  3.20053577e+00  2.35608009e+00 -9.72916392e-01\n",
            " -3.28964902e+00  1.79272946e-01  2.76060904e-01 -1.22321915e+00\n",
            "  1.76110843e+00  2.13200498e+00  2.76606658e-01 -2.90325033e+00\n",
            "  3.18820916e+00  1.92772707e+00 -5.41066166e-01 -1.49133961e+00\n",
            "  3.39243649e-01  6.56583363e-01 -3.17286586e+00 -4.95734256e-01\n",
            " -6.19658057e-01  4.06381635e-01  1.59506874e-01  1.11687698e+00\n",
            "  2.74250044e+00 -1.52797556e+00 -1.41366240e+00  2.93536678e+00\n",
            " -3.52383910e-02  1.06964431e+00  3.60689333e+00 -3.85033569e-01\n",
            " -4.68646664e+00  1.20553188e+00 -1.31884162e+00 -2.85760114e+00\n",
            " -7.79633274e-01  1.62025050e+00  6.56623098e-01 -6.59992724e-03\n",
            "  3.67155474e+00  5.70717005e-01 -5.54097874e-01  4.24953816e+00\n",
            "  4.87739302e+00 -2.33783654e+00  1.87447403e-01  1.82004653e+00\n",
            "  2.61956169e+00  1.99962303e+00 -6.96176891e-01 -3.24200952e+00\n",
            "  8.55735981e-01  8.07600126e-01  1.41334754e-01 -1.95377937e-01\n",
            "  1.22308946e+00  2.84751522e+00  1.03369701e+00 -5.41952363e-01\n",
            "  4.01138040e-01 -1.32226863e+00  1.87658834e+00 -6.52049511e-01\n",
            " -7.12610124e-01  3.34954652e+00  1.62763206e+00 -1.39042764e+00\n",
            " -1.67309233e+00 -3.68639253e-01  1.44570582e+00  9.66205266e-01\n",
            " -4.13431016e+00 -7.05194117e-01 -2.66682885e-01  3.59042143e+00\n",
            " -2.66942525e-01  6.50055878e-01  1.20642932e+00  3.62856666e-01\n",
            "  5.44024565e-01 -3.77222066e+00 -3.65461465e-01 -3.15150632e+00\n",
            " -8.92799231e-01  9.01355683e-01 -7.93736185e-02 -3.69940507e+00\n",
            " -1.07974501e+00 -2.79758187e-01  4.18060317e-03  3.19736406e-01\n",
            " -1.28390998e+00  1.22363802e+00 -2.96589676e-02  2.01555611e-01\n",
            "  2.30293265e+00  2.07583291e+00  3.15875004e+00 -1.79706141e+00\n",
            "  2.24986977e+00  1.28006007e+00  2.03289346e+00  2.76796477e+00\n",
            " -8.02924069e-02  1.36347471e+00  4.02387451e+00 -4.26997560e+00\n",
            "  5.44272262e-01  3.41209706e+00  3.85560184e-01 -5.56296549e-01\n",
            "  4.53272674e+00 -5.93402962e-01  9.43755672e-01 -9.23267126e-01\n",
            "  4.72530174e-01  3.35594146e+00  1.01049895e+00  4.01757978e-01\n",
            " -4.12132791e+00 -4.19174310e-01  9.01523316e-01  6.58617544e-01\n",
            "  2.81877796e-01 -7.79576112e-01  1.55716311e+00 -1.09966247e+00\n",
            "  1.27697431e-01  7.74220141e-03 -1.98052972e+00  1.37745431e+00\n",
            "  3.89274988e+00 -3.99176050e-01 -7.53980067e-01  1.72023643e+00\n",
            " -4.24480266e+00  2.65422135e+00 -1.78595739e-01 -2.75926371e+00\n",
            "  2.10608695e+00 -1.95842556e+00  2.22191390e+00 -2.82138449e+00\n",
            "  2.17518671e+00 -1.09952683e+00  1.12035559e-01 -1.05408277e+00\n",
            " -3.60399256e-01  3.49692292e+00 -2.18324697e-01  1.01670616e+00\n",
            "  1.97143647e+00  2.86662490e+00  3.17566831e+00 -1.25124240e+00\n",
            " -5.16044151e-01 -8.98115212e-01 -1.66552921e+00  3.73406141e-01\n",
            " -2.66297447e+00  4.60139918e-01 -9.03766775e-01  1.20278454e+00\n",
            " -8.76048033e-02 -1.40991888e+00  2.01629218e+00  1.59728601e+00\n",
            " -1.00573038e+00 -1.69922211e+00  1.75778500e-01 -1.01493183e+00\n",
            " -1.68809906e+00  2.45856550e-01  2.98920971e+00  7.61157726e-01\n",
            " -1.92791706e-01 -9.88996663e-01  1.37539370e+00 -2.05412793e-01\n",
            "  9.71324557e-01 -3.26131261e-01 -1.21153502e+00 -4.57884199e-01\n",
            " -4.09439606e-02 -1.59306763e-01 -1.71742345e+00 -2.85283388e+00\n",
            " -2.35400252e+00  2.14166059e+00  7.01559723e-01 -1.42256323e+00\n",
            " -3.82766606e-02  3.95111358e-01  3.39551246e+00 -8.89297874e-02\n",
            " -1.04539189e+00 -7.49698006e-02  2.25996914e+00 -2.16033093e+00\n",
            "  2.66239963e+00 -3.28466260e+00 -4.53007606e-01 -1.42870735e-01\n",
            " -2.62764372e+00  2.33836702e+00  4.09648424e+00 -1.29643940e+00\n",
            " -1.13774727e+00 -3.82271508e-01 -1.00517109e+00 -5.33809753e-01\n",
            " -9.19774771e-01]\n"
          ],
          "name": "stdout"
        }
      ]
    },
    {
      "cell_type": "code",
      "metadata": {
        "id": "88qcudZdpCs2",
        "outputId": "f05b41e1-010f-484c-ff8a-6e25afcc4f68",
        "colab": {
          "base_uri": "https://localhost:8080/",
          "height": 34
        }
      },
      "source": [
        "# Displacement values at given time\n",
        "y=[2*math.cos(w*i) for i in x]\n",
        "y=torch.tensor(y).float()\n",
        "print(type(y))"
      ],
      "execution_count": null,
      "outputs": [
        {
          "output_type": "stream",
          "text": [
            "<class 'torch.Tensor'>\n"
          ],
          "name": "stdout"
        }
      ]
    },
    {
      "cell_type": "code",
      "metadata": {
        "id": "GqGaHztEOpGB",
        "outputId": "de1a95c3-baf5-4578-9eff-37e2f8346fc8",
        "colab": {
          "base_uri": "https://localhost:8080/",
          "height": 282
        }
      },
      "source": [
        "# plotting displacement vs time \n",
        "plt.scatter(x,y)"
      ],
      "execution_count": null,
      "outputs": [
        {
          "output_type": "execute_result",
          "data": {
            "text/plain": [
              "<matplotlib.collections.PathCollection at 0x7f7af1358dd8>"
            ]
          },
          "metadata": {
            "tags": []
          },
          "execution_count": 129
        },
        {
          "output_type": "display_data",
          "data": {
            "image/png": "[encoded data removed]",
            "text/plain": [
              "<Figure size 432x288 with 1 Axes>"
            ]
          },
          "metadata": {
            "tags": [],
            "needs_background": "light"
          }
        }
      ]
    },
    {
      "cell_type": "code",
      "metadata": {
        "id": "mNLN7c7MgpD-"
      },
      "source": [
        "# adding noise to displacement values\n",
        "y=y+e"
      ],
      "execution_count": null,
      "outputs": []
    },
    {
      "cell_type": "code",
      "metadata": {
        "id": "gLIW0uwpMYEO",
        "outputId": "6683ba84-39da-49c3-e67f-241a5d1ef407",
        "colab": {
          "base_uri": "https://localhost:8080/",
          "height": 282
        }
      },
      "source": [
        "# plotting displacement vs time after adding noise\n",
        "plt.scatter(x, y)"
      ],
      "execution_count": null,
      "outputs": [
        {
          "output_type": "execute_result",
          "data": {
            "text/plain": [
              "<matplotlib.collections.PathCollection at 0x7f7af12c6668>"
            ]
          },
          "metadata": {
            "tags": []
          },
          "execution_count": 131
        },
        {
          "output_type": "display_data",
          "data": {
            "image/png": "[encoded data removed]",
            "text/plain": [
              "<Figure size 432x288 with 1 Axes>"
            ]
          },
          "metadata": {
            "tags": [],
            "needs_background": "light"
          }
        }
      ]
    },
    {
      "cell_type": "code",
      "metadata": {
        "id": "7Do-tohWrmQy"
      },
      "source": [
        "# Function for creating basis function\n",
        "# returns the features after applying basis function\n",
        "# Taking polynomial as basis function\n",
        "def create_features(X, degree, standardize):\n",
        "    \n",
        "    if len(X.shape) == 1:\n",
        "        X = X.unsqueeze(1)\n",
        "    # Adding bias of 0.02 to input data\n",
        "    bias_col=np.full((X.shape[0], 1), 0.02, dtype=float)\n",
        "    bias_col=torch.tensor(bias_col)\n",
        "\n",
        "    \n",
        "    X_d = torch.cat([bias_col, X], axis=1)\n",
        "    for i in range(1, degree):\n",
        "        X_pow = X.pow(i + 1)\n",
        "        # If we are using the gradient descent method, we need to\n",
        "        # standardize the features to avoid exploding gradients\n",
        "        if standardize:\n",
        "            X_pow -= X_pow.mean()\n",
        "            std = X_pow.std()\n",
        "            if std != 0:\n",
        "                X_pow /= std\n",
        "        X_d = torch.cat([X_d, X_pow], axis=1)\n",
        "    return X_d"
      ],
      "execution_count": null,
      "outputs": []
    },
    {
      "cell_type": "code",
      "metadata": {
        "id": "42gLYq3LbrjU"
      },
      "source": [
        "# Taking degree as 4\n",
        "features = create_features(x, degree=4, standardize=False)"
      ],
      "execution_count": null,
      "outputs": []
    },
    {
      "cell_type": "code",
      "metadata": {
        "id": "rAoaf4LSlDK4"
      },
      "source": [
        "# Function for predicting displacement\n",
        "def predict(features, weights):\n",
        "    return features.mm(weights)"
      ],
      "execution_count": null,
      "outputs": []
    },
    {
      "cell_type": "code",
      "metadata": {
        "id": "bMOd5HtkbxM3"
      },
      "source": [
        "y_true = y.unsqueeze(1)\n",
        "y_true=y_true.double()"
      ],
      "execution_count": null,
      "outputs": []
    },
    {
      "cell_type": "code",
      "metadata": {
        "id": "kT5rb8VI8Yxk"
      },
      "source": [
        "# Function for closed form solution or using normal equation\n",
        "def normal_equation(y_true, X):\n",
        "    \n",
        "    XTX_inv = (X.T.mm(X)).inverse()\n",
        "    XTy = X.T.mm(y_true)\n",
        "    weights = XTX_inv.mm(XTy)\n",
        "    return weights"
      ],
      "execution_count": null,
      "outputs": []
    },
    {
      "cell_type": "code",
      "metadata": {
        "id": "B0hZKVx5ku6P"
      },
      "source": [
        "weights = normal_equation(y_true, features)"
      ],
      "execution_count": null,
      "outputs": []
    },
    {
      "cell_type": "code",
      "metadata": {
        "id": "B0fewj1Ak8Gt",
        "outputId": "3931c4af-38e8-4012-c51d-069576c8b758",
        "colab": {
          "base_uri": "https://localhost:8080/",
          "height": 34
        }
      },
      "source": [
        "y_pred = predict(features, weights)\n",
        "print((y_pred.shape))"
      ],
      "execution_count": null,
      "outputs": [
        {
          "output_type": "stream",
          "text": [
            "torch.Size([629, 1])\n"
          ],
          "name": "stdout"
        }
      ]
    },
    {
      "cell_type": "code",
      "metadata": {
        "id": "YHZ5_fsfjruQ",
        "outputId": "f9bd0ba5-84a8-4713-a206-d341008f1b0d",
        "colab": {
          "base_uri": "https://localhost:8080/",
          "height": 34
        }
      },
      "source": [
        "y_pred=y_pred.squeeze(1)\n",
        "print(y_pred.shape)"
      ],
      "execution_count": null,
      "outputs": [
        {
          "output_type": "stream",
          "text": [
            "torch.Size([629])\n"
          ],
          "name": "stdout"
        }
      ]
    },
    {
      "cell_type": "code",
      "metadata": {
        "id": "CkgFnSqwjP76",
        "outputId": "2d0564bd-8436-4c54-bdaf-102cdd562287",
        "colab": {
          "base_uri": "https://localhost:8080/",
          "height": 34
        }
      },
      "source": [
        "print(y.shape)"
      ],
      "execution_count": null,
      "outputs": [
        {
          "output_type": "stream",
          "text": [
            "torch.Size([629])\n"
          ],
          "name": "stdout"
        }
      ]
    },
    {
      "cell_type": "code",
      "metadata": {
        "id": "uCc5ho0rU37u",
        "outputId": "e329c147-8e0e-4b81-c5d3-2504139fa923",
        "colab": {
          "base_uri": "https://localhost:8080/",
          "height": 282
        }
      },
      "source": [
        "# Plot showing predicted values and analytical solution\n",
        "plt.scatter(x, y)\n",
        "plt.plot(x, y_pred, c='red')\n"
      ],
      "execution_count": null,
      "outputs": [
        {
          "output_type": "execute_result",
          "data": {
            "text/plain": [
              "[<matplotlib.lines.Line2D at 0x7f7af1290518>]"
            ]
          },
          "metadata": {
            "tags": []
          },
          "execution_count": 141
        },
        {
          "output_type": "display_data",
          "data": {
            "image/png": "[encoded data removed]",
            "text/plain": [
              "<Figure size 432x288 with 1 Axes>"
            ]
          },
          "metadata": {
            "tags": [],
            "needs_background": "light"
          }
        }
      ]
    },
    {
      "cell_type": "markdown",
      "metadata": {
        "id": "tZ0jfE_je28-"
      },
      "source": [
        "We can observe that our model captures the data accurately by taking degree as 4."
      ]
    },
    {
      "cell_type": "markdown",
      "metadata": {
        "id": "UDIhmRgQenSX"
      },
      "source": [
        "##Taking degree as 2 "
      ]
    },
    {
      "cell_type": "code",
      "metadata": {
        "id": "982RvuHFPzHR"
      },
      "source": [
        "features_2 = create_features(x, degree=2, standardize=False)"
      ],
      "execution_count": null,
      "outputs": []
    },
    {
      "cell_type": "code",
      "metadata": {
        "id": "25ZCCNEOQv7M"
      },
      "source": [
        "weights_2 = normal_equation(y_true, features_2)"
      ],
      "execution_count": null,
      "outputs": []
    },
    {
      "cell_type": "code",
      "metadata": {
        "id": "-IZEDYVFRDH1"
      },
      "source": [
        "y_pred_2 = predict(features_2, weights_2)"
      ],
      "execution_count": null,
      "outputs": []
    },
    {
      "cell_type": "code",
      "metadata": {
        "id": "75bX_2PNRLgj",
        "outputId": "5f98d119-8c0f-41ca-c399-4529ce5befd4",
        "colab": {
          "base_uri": "https://localhost:8080/",
          "height": 282
        }
      },
      "source": [
        "plt.scatter(x, y)\n",
        "plt.plot(x, y_pred_2, c='red')\n"
      ],
      "execution_count": null,
      "outputs": [
        {
          "output_type": "execute_result",
          "data": {
            "text/plain": [
              "[<matplotlib.lines.Line2D at 0x7f7af13a29e8>]"
            ]
          },
          "metadata": {
            "tags": []
          },
          "execution_count": 145
        },
        {
          "output_type": "display_data",
          "data": {
            "image/png": "[encoded data removed]",
            "text/plain": [
              "<Figure size 432x288 with 1 Axes>"
            ]
          },
          "metadata": {
            "tags": [],
            "needs_background": "light"
          }
        }
      ]
    },
    {
      "cell_type": "markdown",
      "metadata": {
        "id": "XjIoKyZhfCjM"
      },
      "source": [
        "We can observe that underfitting occurs when we take degree as 2."
      ]
    },
    {
      "cell_type": "markdown",
      "metadata": {
        "id": "gWswAWdqfJVX"
      },
      "source": [
        "## Taking degree 9"
      ]
    },
    {
      "cell_type": "code",
      "metadata": {
        "id": "hkzeP-ofRStU"
      },
      "source": [
        "features_9 = create_features(x, degree=9, standardize=False)"
      ],
      "execution_count": null,
      "outputs": []
    },
    {
      "cell_type": "code",
      "metadata": {
        "id": "U1M3lQZpRYZK"
      },
      "source": [
        "weights_9 = normal_equation(y_true, features_9)"
      ],
      "execution_count": null,
      "outputs": []
    },
    {
      "cell_type": "code",
      "metadata": {
        "id": "H8lpPWXHRdvZ"
      },
      "source": [
        "y_pred_9 = predict(features_9, weights_9)"
      ],
      "execution_count": null,
      "outputs": []
    },
    {
      "cell_type": "code",
      "metadata": {
        "id": "LSp_BBQyRkUI",
        "outputId": "a1296a34-966c-45e5-f511-e34a1b676038",
        "colab": {
          "base_uri": "https://localhost:8080/",
          "height": 282
        }
      },
      "source": [
        "plt.scatter(x, y)\n",
        "plt.plot(x, y_pred_9, c='red')"
      ],
      "execution_count": null,
      "outputs": [
        {
          "output_type": "execute_result",
          "data": {
            "text/plain": [
              "[<matplotlib.lines.Line2D at 0x7f7af11ac208>]"
            ]
          },
          "metadata": {
            "tags": []
          },
          "execution_count": 149
        },
        {
          "output_type": "display_data",
          "data": {
            "image/png": "[encoded data removed]",
            "text/plain": [
              "<Figure size 432x288 with 1 Axes>"
            ]
          },
          "metadata": {
            "tags": [],
            "needs_background": "light"
          }
        }
      ]
    },
    {
      "cell_type": "markdown",
      "metadata": {
        "id": "XX88NFVyfSjJ"
      },
      "source": [
        "We can observe that our model is overfitting as it is capturing the noise for degree=9."
      ]
    },
    {
      "cell_type": "markdown",
      "metadata": {
        "id": "i6couq71fd-z"
      },
      "source": [
        "## Taking less number of data points"
      ]
    },
    {
      "cell_type": "code",
      "metadata": {
        "id": "3ug7nYIwSA8k",
        "outputId": "85ca857c-f1bc-4659-8ec9-743cd18151b4",
        "colab": {
          "base_uri": "https://localhost:8080/",
          "height": 34
        }
      },
      "source": [
        "\n",
        "x_low=np.arange(0,2*math.pi,0.1)\n",
        "x_low=torch.tensor(x_low).float()\n",
        "print(len(x_low))"
      ],
      "execution_count": null,
      "outputs": [
        {
          "output_type": "stream",
          "text": [
            "63\n"
          ],
          "name": "stdout"
        }
      ]
    },
    {
      "cell_type": "code",
      "metadata": {
        "id": "UYMWwp-YTLDI",
        "outputId": "bdd2612c-e1b2-4868-fd92-012259142c89",
        "colab": {
          "base_uri": "https://localhost:8080/",
          "height": 34
        }
      },
      "source": [
        "y_low=[2*math.cos(w*i) for i in x_low]\n",
        "y_low=torch.tensor(y_low).float()\n",
        "print(type(y_low))"
      ],
      "execution_count": null,
      "outputs": [
        {
          "output_type": "stream",
          "text": [
            "<class 'torch.Tensor'>\n"
          ],
          "name": "stdout"
        }
      ]
    },
    {
      "cell_type": "code",
      "metadata": {
        "id": "8qYNIraDUuml",
        "outputId": "dc0c6eeb-e2e1-44bd-b2c3-1afcd87b0ccb",
        "colab": {
          "base_uri": "https://localhost:8080/",
          "height": 282
        }
      },
      "source": [
        "plt.scatter(x_low, y_low)\n"
      ],
      "execution_count": null,
      "outputs": [
        {
          "output_type": "execute_result",
          "data": {
            "text/plain": [
              "<matplotlib.collections.PathCollection at 0x7f7af11410f0>"
            ]
          },
          "metadata": {
            "tags": []
          },
          "execution_count": 152
        },
        {
          "output_type": "display_data",
          "data": {
            "image/png": "[encoded data removed]",
            "text/plain": [
              "<Figure size 432x288 with 1 Axes>"
            ]
          },
          "metadata": {
            "tags": [],
            "needs_background": "light"
          }
        }
      ]
    },
    {
      "cell_type": "code",
      "metadata": {
        "id": "e9cP8sBRTg86"
      },
      "source": [
        "e_low=np.random.normal(0.02,2, x_low.shape[0])"
      ],
      "execution_count": null,
      "outputs": []
    },
    {
      "cell_type": "code",
      "metadata": {
        "id": "62W4PTKdTnJ_"
      },
      "source": [
        "y_low=y_low+e_low"
      ],
      "execution_count": null,
      "outputs": []
    },
    {
      "cell_type": "code",
      "metadata": {
        "id": "AVpgZQ0ATwqr",
        "outputId": "4f19d387-c7a4-4a36-eab6-ce3a4c7c6922",
        "colab": {
          "base_uri": "https://localhost:8080/",
          "height": 282
        }
      },
      "source": [
        "# Plot after adding noise to displacement values\n",
        "plt.scatter(x_low,y_low)"
      ],
      "execution_count": null,
      "outputs": [
        {
          "output_type": "execute_result",
          "data": {
            "text/plain": [
              "<matplotlib.collections.PathCollection at 0x7f7af10a7978>"
            ]
          },
          "metadata": {
            "tags": []
          },
          "execution_count": 155
        },
        {
          "output_type": "display_data",
          "data": {
            "image/png": "[encoded data removed]",
            "text/plain": [
              "<Figure size 432x288 with 1 Axes>"
            ]
          },
          "metadata": {
            "tags": [],
            "needs_background": "light"
          }
        }
      ]
    },
    {
      "cell_type": "code",
      "metadata": {
        "id": "Fb9BiLCST20J"
      },
      "source": [
        "# taking degree as 4\n",
        "features_low = create_features(x_low, degree=4, standardize=False)"
      ],
      "execution_count": null,
      "outputs": []
    },
    {
      "cell_type": "code",
      "metadata": {
        "id": "qoVDCQtJUKlo"
      },
      "source": [
        "y_true_low = y_low.unsqueeze(1)\n",
        "y_true_low=y_true_low.double()"
      ],
      "execution_count": null,
      "outputs": []
    },
    {
      "cell_type": "code",
      "metadata": {
        "id": "BhDuhiflT90E"
      },
      "source": [
        "weights_low = normal_equation(y_true_low, features_low)"
      ],
      "execution_count": null,
      "outputs": []
    },
    {
      "cell_type": "code",
      "metadata": {
        "id": "L0FIURfLUaI2"
      },
      "source": [
        "y_pred_low = predict(features_low, weights_low)"
      ],
      "execution_count": null,
      "outputs": []
    },
    {
      "cell_type": "code",
      "metadata": {
        "id": "aLHR-9LlUd2t",
        "outputId": "54a7d3ca-f19f-435b-dddf-233c5e008fd3",
        "colab": {
          "base_uri": "https://localhost:8080/",
          "height": 282
        }
      },
      "source": [
        "plt.scatter(x_low, y_low)\n",
        "plt.plot(x_low, y_pred_low, c='red')"
      ],
      "execution_count": null,
      "outputs": [
        {
          "output_type": "execute_result",
          "data": {
            "text/plain": [
              "[<matplotlib.lines.Line2D at 0x7f7af1198b70>]"
            ]
          },
          "metadata": {
            "tags": []
          },
          "execution_count": 160
        },
        {
          "output_type": "display_data",
          "data": {
            "image/png": "[encoded data removed]",
            "text/plain": [
              "<Figure size 432x288 with 1 Axes>"
            ]
          },
          "metadata": {
            "tags": [],
            "needs_background": "light"
          }
        }
      ]
    },
    {
      "cell_type": "markdown",
      "metadata": {
        "id": "eGEWwT23f0J6"
      },
      "source": [
        "We can observe that our model is overfitting."
      ]
    },
    {
      "cell_type": "markdown",
      "metadata": {
        "id": "y5f334iNf7aN"
      },
      "source": [
        "## Solving using gradient descent."
      ]
    },
    {
      "cell_type": "code",
      "metadata": {
        "id": "mbZGl-6ld70W"
      },
      "source": [
        "# Function for gradient descent\n",
        "def gradient_descent(X, y_true, lr=0.001, it=40000):\n",
        "    \n",
        "    \n",
        "    weights_gd = torch.ones((X.shape[1], 1)).double()\n",
        "    n = X.shape[0]\n",
        "    fact = 2 / n\n",
        "    for _ in range(it):\n",
        "        y_pred = predict(X, weights_gd)\n",
        "        grad = fact * X.T.mm(y_pred - y_true)\n",
        "        weights_gd -= lr * grad\n",
        "    return weights_gd"
      ],
      "execution_count": null,
      "outputs": []
    },
    {
      "cell_type": "code",
      "metadata": {
        "id": "UJlpLTRgd9pE"
      },
      "source": [
        "# Taking degree as 3\n",
        "features_gd = create_features(x, degree=3, standardize=True)\n",
        "weights_gd = gradient_descent(features_gd, y_true)"
      ],
      "execution_count": null,
      "outputs": []
    },
    {
      "cell_type": "code",
      "metadata": {
        "id": "J4-66EloeUTk"
      },
      "source": [
        "pred_gd = predict(features_gd, weights_gd)"
      ],
      "execution_count": null,
      "outputs": []
    },
    {
      "cell_type": "code",
      "metadata": {
        "id": "cmZXMJ6KelS0",
        "outputId": "bee646f8-e528-4063-95a6-ac56f96b64c1",
        "colab": {
          "base_uri": "https://localhost:8080/",
          "height": 282
        }
      },
      "source": [
        "# PLot showing predicted and actual values\n",
        "plt.scatter(x, y)\n",
        "plt.plot(x, pred_gd, c='red')"
      ],
      "execution_count": null,
      "outputs": [
        {
          "output_type": "execute_result",
          "data": {
            "text/plain": [
              "[<matplotlib.lines.Line2D at 0x7f7af10555c0>]"
            ]
          },
          "metadata": {
            "tags": []
          },
          "execution_count": 164
        },
        {
          "output_type": "display_data",
          "data": {
            "image/png": "[encoded data removed]",
            "text/plain": [
              "<Figure size 432x288 with 1 Axes>"
            ]
          },
          "metadata": {
            "tags": [],
            "needs_background": "light"
          }
        }
      ]
    },
    {
      "cell_type": "markdown",
      "metadata": {
        "id": "5417k-RVhBEr"
      },
      "source": [
        "We can observe that our model is predicting dispacement values nicely."
      ]
    },
    {
      "cell_type": "markdown",
      "metadata": {
        "id": "EWLDOaPsnTtQ"
      },
      "source": [
        "#(2) PCA"
      ]
    },
    {
      "cell_type": "code",
      "metadata": {
        "id": "YogrLVafWgZI"
      },
      "source": [
        "import torch\n",
        "import numpy as np\n",
        "import matplotlib.pyplot as plt"
      ],
      "execution_count": null,
      "outputs": []
    },
    {
      "cell_type": "code",
      "metadata": {
        "id": "ECcWvbe_ZjUd",
        "outputId": "eae9365d-09f2-4ab3-cb8a-81342d303bf7",
        "colab": {
          "base_uri": "https://localhost:8080/",
          "height": 34
        }
      },
      "source": [
        "n=int(input(\"Enter initial number of features:\"))"
      ],
      "execution_count": null,
      "outputs": [
        {
          "output_type": "stream",
          "text": [
            "Enter initial number of features:8\n"
          ],
          "name": "stdout"
        }
      ]
    },
    {
      "cell_type": "code",
      "metadata": {
        "id": "yZXjxAgEl5Vc",
        "outputId": "8342bea9-90de-4b96-8e7c-66f6f7d526c1",
        "colab": {
          "base_uri": "https://localhost:8080/",
          "height": 721
        }
      },
      "source": [
        "# defining spring constants and Forces using normal distribution\n",
        "# initial features=8\n",
        "# number of examples=10\n",
        "from numpy import random\n",
        "spring_constants=random.normal(loc=19,scale=5,size=(10,n))\n",
        "print(\"Spring constants:\",spring_constants)\n",
        "Forces=random.normal(loc=0,scale=5,size=(10,n))\n",
        "print(\"Forces :\",Forces)\n",
        "\n"
      ],
      "execution_count": null,
      "outputs": [
        {
          "output_type": "stream",
          "text": [
            "Spring constants: [[17.55649948 20.4197468  18.72911985 21.64277613 21.04910298 18.95536565\n",
            "  26.38306505 16.97318415]\n",
            " [16.45442884 16.12172555 18.59754814 18.20292118 18.75225855 15.33810701\n",
            "  21.99768383 23.21280995]\n",
            " [25.34982405 13.3831181  20.50686485 25.48901217 20.67941867 17.96725945\n",
            "  16.35943113 13.54268155]\n",
            " [23.65013537 21.67712423 25.49446885 16.73444238 23.09999703 12.65284088\n",
            "  20.1846506  27.38466916]\n",
            " [24.32968056 30.1556538   9.1695587  25.20084751 11.49528301 16.19888122\n",
            "  19.63101396 15.65163179]\n",
            " [19.11174053 25.2578254  16.88201219 24.98776041 16.50294715 14.64372651\n",
            "  26.71316057 16.46320371]\n",
            " [20.18449012 25.41745176  6.52174879 26.09040637 22.12496866 16.27865704\n",
            "  31.83348459 20.6373128 ]\n",
            " [14.23061645 19.98715701 27.05569672 25.28961467 29.69460775 23.89503488\n",
            "  24.99837683  3.75156113]\n",
            " [18.88002393 19.03648016 16.38946842 15.08946707 24.70490621 25.69945308\n",
            "  14.01642928 12.2196553 ]\n",
            " [24.31901028 21.5209308  21.85899631 12.1898416  14.2942018  23.18723783\n",
            "  23.00017569 20.49769553]]\n",
            "Forces : [[-1.45348649e+00  4.45071247e+00  7.62080014e+00  2.75204657e+00\n",
            "  -5.47906492e-01 -5.15107200e+00 -9.41256641e-01  5.21095635e+00]\n",
            " [-9.16370674e-01  3.08377035e+00 -1.67719835e+00  8.69042606e-01\n",
            "  -9.86013492e-01  1.56932312e+00 -3.19085095e+00  6.99197037e+00]\n",
            " [ 3.20127599e+00  1.25195983e+00  3.65668076e+00 -7.30379375e+00\n",
            "  -1.92456294e+00 -3.16587013e+00 -2.70166142e+00 -8.27343680e+00]\n",
            " [ 8.69940844e+00 -3.77654254e+00 -1.50841972e+00 -9.15331421e+00\n",
            "  -1.98174816e+00 -1.70566298e+00 -5.33514493e-03  1.52468972e+00]\n",
            " [-2.82611273e+00  3.30680274e+00 -5.15881816e+00  1.90972057e+00\n",
            "   9.30111418e+00 -6.90093332e+00 -2.27280094e+00  3.24267204e+00]\n",
            " [-3.38981548e-01 -3.53907687e+00  2.12080771e+00 -1.38059591e+00\n",
            "   2.28219138e+00 -4.59734592e+00 -3.24825433e+00 -3.12562259e+00]\n",
            " [ 5.32276512e+00 -1.14710898e+00 -7.34574806e+00  5.01399872e-02\n",
            "  -4.60884200e+00 -7.58406511e+00  3.32505645e+00 -4.80481897e-01]\n",
            " [-2.45970127e+00  2.86369951e+00 -5.53586711e-01 -4.20990701e+00\n",
            "  -8.01432760e+00 -1.44039232e-02  3.92918077e+00 -3.26728702e-01]\n",
            " [ 6.03648928e+00 -1.08780846e-01 -3.81523182e-01 -1.78665277e+00\n",
            "  -2.01317079e+00  6.05663946e-01 -4.77332442e-02 -1.46550491e+00]\n",
            " [ 8.52264572e-01 -1.22100460e+00 -2.93936519e+00 -9.09546962e+00\n",
            "  -2.25488992e+00  5.26837773e+00 -3.93780957e+00  5.12451042e+00]]\n"
          ],
          "name": "stdout"
        }
      ]
    },
    {
      "cell_type": "code",
      "metadata": {
        "id": "tj-7ZNp6jD54"
      },
      "source": [
        "# Converting to numpy matrix\n",
        "Forces=np.matrix(Forces)"
      ],
      "execution_count": null,
      "outputs": []
    },
    {
      "cell_type": "code",
      "metadata": {
        "id": "JXT22TXBhAJ2"
      },
      "source": [
        "# Function for creating stiffness matrix for features=6\n",
        "def get_stiffness_matrix(k,n):\n",
        "  K=np.zeros((n,n))\n",
        "  for i in range(n-1):\n",
        "    K[i][i]=k[i]+k[i+1]\n",
        "    K[i][i+1]=-k[i+1]\n",
        "    K[i+1][i]=K[i][i+1]\n",
        "  K[n-1][n-1]=k[n-1]\n",
        "  \n",
        "  return np.matrix(K)                  \n"
      ],
      "execution_count": null,
      "outputs": []
    },
    {
      "cell_type": "code",
      "metadata": {
        "id": "Pzg-vvUyj4Lj",
        "outputId": "134f20e6-1814-4c63-a6d9-c23625becb9f",
        "colab": {
          "base_uri": "https://localhost:8080/",
          "height": 369
        }
      },
      "source": [
        "# Calculating the displacement matrix\n",
        "A=np.empty((0,n), float)\n",
        "for i in range(0,10):\n",
        "  stiffness_matrix=get_stiffness_matrix(spring_constants[i],n)\n",
        "  x=np.linalg.pinv(stiffness_matrix) * (Forces[i].transpose())\n",
        "  x=x.transpose()\n",
        "  #print(x.shape)\n",
        "  A=np.append(A,np.array(x),axis=0 )\n",
        "print(A)  "
      ],
      "execution_count": null,
      "outputs": [
        {
          "output_type": "stream",
          "text": [
            "[[ 0.68013524  1.33608266  1.81360473  1.87472294  1.80682082  1.76032357\n",
            "   1.92215843  2.22916956]\n",
            " [ 0.34906547  0.76217532  0.95447343  1.2430794   1.47688745  1.82702469\n",
            "   1.99982104  2.30103276]\n",
            " [-0.60195323 -1.98135408 -2.94262458 -3.85946376 -4.63634882 -5.42338973\n",
            "  -6.09426258 -6.70517829]\n",
            " [-0.33432894 -1.10040532 -1.60364352 -2.28017462 -2.3740299  -2.38875453\n",
            "  -2.31348176 -2.257805  ]\n",
            " [ 0.02472882  0.13839763  0.15158849  0.36109623  0.65426447  0.28812424\n",
            "   0.33752928  0.54470717]\n",
            " [-0.61882789 -1.07365313 -1.54449864 -1.94748103 -2.47399496 -3.22320472\n",
            "  -3.46180909 -3.65166415]\n",
            " [-0.6177161  -1.3176702  -3.86973732 -4.2261209  -4.648645   -4.93979252\n",
            "  -4.85043458 -4.87371677]\n",
            " [-0.61738541 -0.93389234 -1.27355364 -1.61504506 -1.7641051  -1.61394637\n",
            "  -1.46983893 -1.55693033]\n",
            " [ 0.04442725 -0.22861177 -0.53911122 -0.85107703 -0.96930233 -1.00461725\n",
            "  -1.112579   -1.23250913]\n",
            " [-0.33732401 -0.75810743 -1.1165249  -1.51811182 -1.22427319 -0.94588391\n",
            "  -0.89428861 -0.64428439]]\n"
          ],
          "name": "stdout"
        }
      ]
    },
    {
      "cell_type": "code",
      "metadata": {
        "id": "-aCAy8UlkOsS",
        "outputId": "274b64b9-0a9b-44bb-b7da-9488632af256",
        "colab": {
          "base_uri": "https://localhost:8080/",
          "height": 34
        }
      },
      "source": [
        "type(A)"
      ],
      "execution_count": null,
      "outputs": [
        {
          "output_type": "execute_result",
          "data": {
            "text/plain": [
              "numpy.ndarray"
            ]
          },
          "metadata": {
            "tags": []
          },
          "execution_count": 23
        }
      ]
    },
    {
      "cell_type": "code",
      "metadata": {
        "id": "szKbTI8_Q2Tg",
        "outputId": "4ff4b206-aba0-4396-8188-6c1b1571fae3",
        "colab": {
          "base_uri": "https://localhost:8080/",
          "height": 52
        }
      },
      "source": [
        "# Calculating mean of displacement matrix\n",
        "col_mean = np.mean(A, axis = 0)\n",
        "print(col_mean)"
      ],
      "execution_count": null,
      "outputs": [
        {
          "output_type": "stream",
          "text": [
            "[-0.20291788 -0.51570387 -0.99700272 -1.28185757 -1.41527266 -1.56641165\n",
            " -1.59371858 -1.58471786]\n"
          ],
          "name": "stdout"
        }
      ]
    },
    {
      "cell_type": "code",
      "metadata": {
        "id": "ZvzzpDkMRF2i"
      },
      "source": [
        "# Subtracting from mean\n",
        "A_mean=A-col_mean"
      ],
      "execution_count": null,
      "outputs": []
    },
    {
      "cell_type": "code",
      "metadata": {
        "id": "CFI8mZh9FlH2",
        "outputId": "570f9558-0dfc-4f47-ee82-83ff3ba322e3",
        "colab": {
          "base_uri": "https://localhost:8080/",
          "height": 298
        }
      },
      "source": [
        "# Calculating covariance matrix of displacement\n",
        "cov_matrix=np.cov(A.transpose())\n",
        "print(cov_matrix)"
      ],
      "execution_count": null,
      "outputs": [
        {
          "output_type": "stream",
          "text": [
            "[[0.21209513 0.44364536 0.70443551 0.83215843 0.92609876 1.00485822\n",
            "  1.05776408 1.14470242]\n",
            " [0.44364536 1.02782934 1.6157097  1.95122051 2.18989866 2.38935079\n",
            "  2.55043594 2.77463259]\n",
            " [0.70443551 1.6157097  2.89258656 3.38301744 3.78575611 4.09996481\n",
            "  4.30961909 4.63779805]\n",
            " [0.83215843 1.95122051 3.38301744 4.01593755 4.51345671 4.8916816\n",
            "  5.16628492 5.57765795]\n",
            " [0.92609876 2.18989866 3.78575611 4.51345671 5.13962794 5.62562413\n",
            "  5.96866163 6.46916034]\n",
            " [1.00485822 2.38935079 4.09996481 4.8916816  5.62562413 6.26688861\n",
            "  6.68915684 7.26951217]\n",
            " [1.05776408 2.55043594 4.30961909 5.16628492 5.96866163 6.68915684\n",
            "  7.1788441  7.82419729]\n",
            " [1.14470242 2.77463259 4.63779805 5.57765795 6.46916034 7.26951217\n",
            "  7.82419729 8.55004738]]\n"
          ],
          "name": "stdout"
        }
      ]
    },
    {
      "cell_type": "code",
      "metadata": {
        "id": "R-d8qrICHUI0",
        "outputId": "0ce8e26d-cca2-4e36-8e85-4acfd8573db4",
        "colab": {
          "base_uri": "https://localhost:8080/",
          "height": 334
        }
      },
      "source": [
        "# Calculating eigen vectors and eigen values of covariance matrix\n",
        "from numpy.linalg import eig\n",
        "eigvalues, eigvectors = eig(cov_matrix)\n",
        "print(eigvalues)\n",
        "print(eigvectors)"
      ],
      "execution_count": null,
      "outputs": [
        {
          "output_type": "stream",
          "text": [
            "[3.45634416e+01 5.43083556e-01 1.16414168e-01 3.38278240e-02\n",
            " 1.74698556e-02 8.04838515e-03 1.00454213e-03 5.66717468e-04]\n",
            "[[-0.06918517 -0.14201335  0.44077429  0.46506881  0.53821922  0.25426334\n",
            "   0.39276789  0.23638583]\n",
            " [-0.16459114 -0.1556698   0.81348595 -0.09636105 -0.16900877 -0.198264\n",
            "  -0.33842364 -0.30859147]\n",
            " [-0.28059776 -0.52582213 -0.25294817  0.56482975 -0.36365475  0.24234015\n",
            "  -0.15135245 -0.2188138 ]\n",
            " [-0.33504301 -0.49000352  0.01888302 -0.3393166  -0.21950264 -0.27757161\n",
            "   0.27988497  0.57322543]\n",
            " [-0.38369454 -0.25259803 -0.14857563 -0.52114277  0.44494199  0.38523193\n",
            "  -0.00194887 -0.38591115]\n",
            " [-0.42518199  0.10590316 -0.20379467  0.23047968  0.45666705 -0.48514985\n",
            "  -0.4920334   0.16534693]\n",
            " [-0.45376517  0.33173727 -0.03528671  0.12131358 -0.13971697 -0.33887544\n",
            "   0.59874322 -0.41861029]\n",
            " [-0.49318373  0.50392053  0.12152023 -0.02880073 -0.27439191  0.51152343\n",
            "  -0.17136379  0.34774211]]\n"
          ],
          "name": "stdout"
        }
      ]
    },
    {
      "cell_type": "code",
      "metadata": {
        "id": "bOzBATPJdwIo"
      },
      "source": [
        "# Sorting eigenvalues and eigenvectors\n",
        "def eig_sort(eigvalues,eigvectors):\n",
        "  idx=eigvalues.argsort()[::-1]\n",
        "  eigvalues=eigvalues[idx]\n",
        "  eigvectors=eigvectors[:,idx]\n",
        "  return eigvalues,eigvectors"
      ],
      "execution_count": null,
      "outputs": []
    },
    {
      "cell_type": "code",
      "metadata": {
        "id": "xU8mcjxgePTK"
      },
      "source": [
        "eigvalues,eigvectors=eig_sort(eigvalues,eigvectors)"
      ],
      "execution_count": null,
      "outputs": []
    },
    {
      "cell_type": "code",
      "metadata": {
        "id": "6cMdV5SneaL2",
        "outputId": "08c83dcc-b71e-4e88-c3dd-01c217a75e77",
        "colab": {
          "base_uri": "https://localhost:8080/",
          "height": 334
        }
      },
      "source": [
        "print(eigvalues)\n",
        "print(eigvectors)"
      ],
      "execution_count": null,
      "outputs": [
        {
          "output_type": "stream",
          "text": [
            "[3.45634416e+01 5.43083556e-01 1.16414168e-01 3.38278240e-02\n",
            " 1.74698556e-02 8.04838515e-03 1.00454213e-03 5.66717468e-04]\n",
            "[[-0.06918517 -0.14201335  0.44077429  0.46506881  0.53821922  0.25426334\n",
            "   0.39276789  0.23638583]\n",
            " [-0.16459114 -0.1556698   0.81348595 -0.09636105 -0.16900877 -0.198264\n",
            "  -0.33842364 -0.30859147]\n",
            " [-0.28059776 -0.52582213 -0.25294817  0.56482975 -0.36365475  0.24234015\n",
            "  -0.15135245 -0.2188138 ]\n",
            " [-0.33504301 -0.49000352  0.01888302 -0.3393166  -0.21950264 -0.27757161\n",
            "   0.27988497  0.57322543]\n",
            " [-0.38369454 -0.25259803 -0.14857563 -0.52114277  0.44494199  0.38523193\n",
            "  -0.00194887 -0.38591115]\n",
            " [-0.42518199  0.10590316 -0.20379467  0.23047968  0.45666705 -0.48514985\n",
            "  -0.4920334   0.16534693]\n",
            " [-0.45376517  0.33173727 -0.03528671  0.12131358 -0.13971697 -0.33887544\n",
            "   0.59874322 -0.41861029]\n",
            " [-0.49318373  0.50392053  0.12152023 -0.02880073 -0.27439191  0.51152343\n",
            "  -0.17136379  0.34774211]]\n"
          ],
          "name": "stdout"
        }
      ]
    },
    {
      "cell_type": "code",
      "metadata": {
        "id": "5ykCVMozb_U6",
        "outputId": "395b8d24-0efb-4dc4-dabb-afcf27795ee3",
        "colab": {
          "base_uri": "https://localhost:8080/",
          "height": 369
        }
      },
      "source": [
        "# transformed space features\n",
        "transformed_features=np.dot(np.dot(A_mean,eigvectors),eigvectors.transpose())+ col_mean\n",
        "print(transformed_features)"
      ],
      "execution_count": null,
      "outputs": [
        {
          "output_type": "stream",
          "text": [
            "[[ 0.68013524  1.33608266  1.81360473  1.87472294  1.80682082  1.76032357\n",
            "   1.92215843  2.22916956]\n",
            " [ 0.34906547  0.76217532  0.95447343  1.2430794   1.47688745  1.82702469\n",
            "   1.99982104  2.30103276]\n",
            " [-0.60195323 -1.98135408 -2.94262458 -3.85946376 -4.63634882 -5.42338973\n",
            "  -6.09426258 -6.70517829]\n",
            " [-0.33432894 -1.10040532 -1.60364352 -2.28017462 -2.3740299  -2.38875453\n",
            "  -2.31348176 -2.257805  ]\n",
            " [ 0.02472882  0.13839763  0.15158849  0.36109623  0.65426447  0.28812424\n",
            "   0.33752928  0.54470717]\n",
            " [-0.61882789 -1.07365313 -1.54449864 -1.94748103 -2.47399496 -3.22320472\n",
            "  -3.46180909 -3.65166415]\n",
            " [-0.6177161  -1.3176702  -3.86973732 -4.2261209  -4.648645   -4.93979252\n",
            "  -4.85043458 -4.87371677]\n",
            " [-0.61738541 -0.93389234 -1.27355364 -1.61504506 -1.7641051  -1.61394637\n",
            "  -1.46983893 -1.55693033]\n",
            " [ 0.04442725 -0.22861177 -0.53911122 -0.85107703 -0.96930233 -1.00461725\n",
            "  -1.112579   -1.23250913]\n",
            " [-0.33732401 -0.75810743 -1.1165249  -1.51811182 -1.22427319 -0.94588391\n",
            "  -0.89428861 -0.64428439]]\n"
          ],
          "name": "stdout"
        }
      ]
    },
    {
      "cell_type": "code",
      "metadata": {
        "id": "P3R7Yl5cIZ8D"
      },
      "source": [
        "# Function for plotting mse for different r values and printing mse\n",
        "def plotmse(r,eigvectors,A_mean):\n",
        "  mse=[]\n",
        "  r_features=list(range(1,r+1))\n",
        "  \n",
        "  for x in range(0,r):\n",
        "    # taking largest eigen values corresponding eigen vectors\n",
        "    weight=eigvectors[:,0:x+1]\n",
        "    error=np.square(A_mean-np.dot(np.dot(A_mean,weight),weight.transpose())).mean()\n",
        "    mse.append(error)\n",
        "  print(mse)\n",
        "  plt.plot(r_features,mse)\n",
        "  return mse"
      ],
      "execution_count": null,
      "outputs": []
    },
    {
      "cell_type": "code",
      "metadata": {
        "id": "gw8cU51GL554",
        "outputId": "542dc503-ed94-4c17-ad32-afa858eb1dce",
        "colab": {
          "base_uri": "https://localhost:8080/",
          "height": 282
        }
      },
      "source": [
        "pca_mse=plotmse(n,eigvectors,A_mean)"
      ],
      "execution_count": null,
      "outputs": [
        {
          "output_type": "stream",
          "text": [
            "[0.08104669298410035, 0.01994979288344659, 0.006853198983968238, 0.0030475687851750743, 0.0010822100343252314, 0.00017676670504262714, 6.375571511543646e-05, 1.0633247317104388e-28]\n"
          ],
          "name": "stdout"
        },
        {
          "output_type": "display_data",
          "data": {
            "image/png": "[encoded data removed]",
            "text/plain": [
              "<Figure size 432x288 with 1 Axes>"
            ]
          },
          "metadata": {
            "tags": [],
            "needs_background": "light"
          }
        }
      ]
    },
    {
      "cell_type": "markdown",
      "metadata": {
        "id": "0oGa76z2OeJK"
      },
      "source": [
        "## Solving using mode shape approach"
      ]
    },
    {
      "cell_type": "code",
      "metadata": {
        "id": "aHdjwi8nQHYh",
        "outputId": "2aedf2c7-719b-407a-8067-2e1d73d34e65",
        "colab": {
          "base_uri": "https://localhost:8080/",
          "height": 298
        }
      },
      "source": [
        "# stiffness matrix \n",
        "print(stiffness_matrix)"
      ],
      "execution_count": null,
      "outputs": [
        {
          "output_type": "stream",
          "text": [
            "[[ 45.83994108 -21.5209308    0.           0.           0.\n",
            "    0.           0.           0.        ]\n",
            " [-21.5209308   43.37992711 -21.85899631   0.           0.\n",
            "    0.           0.           0.        ]\n",
            " [  0.         -21.85899631  34.04883791 -12.1898416    0.\n",
            "    0.           0.           0.        ]\n",
            " [  0.           0.         -12.1898416   26.4840434  -14.2942018\n",
            "    0.           0.           0.        ]\n",
            " [  0.           0.           0.         -14.2942018   37.48143963\n",
            "  -23.18723783   0.           0.        ]\n",
            " [  0.           0.           0.           0.         -23.18723783\n",
            "   46.18741352 -23.00017569   0.        ]\n",
            " [  0.           0.           0.           0.           0.\n",
            "  -23.00017569  43.49787122 -20.49769553]\n",
            " [  0.           0.           0.           0.           0.\n",
            "    0.         -20.49769553  20.49769553]]\n"
          ],
          "name": "stdout"
        }
      ]
    },
    {
      "cell_type": "code",
      "metadata": {
        "id": "Q44wcLGCl7Qp",
        "outputId": "b65e8aef-f4a6-4a83-fbf1-902f819244e4",
        "colab": {
          "base_uri": "https://localhost:8080/",
          "height": 34
        }
      },
      "source": [
        "len(stiffness_matrix)"
      ],
      "execution_count": null,
      "outputs": [
        {
          "output_type": "execute_result",
          "data": {
            "text/plain": [
              "8"
            ]
          },
          "metadata": {
            "tags": []
          },
          "execution_count": 35
        }
      ]
    },
    {
      "cell_type": "code",
      "metadata": {
        "id": "Pe4q6vggQS9F",
        "outputId": "e9b82477-2934-498f-c334-ccfc46f91a02",
        "colab": {
          "base_uri": "https://localhost:8080/",
          "height": 334
        }
      },
      "source": [
        "# Calculating eigen vectors and eigen values for stiffness_matrix\n",
        "from numpy.linalg import eig\n",
        "mode_eigvalues, mode_eigvectors = eig(stiffness_matrix)\n",
        "print(mode_eigvalues)\n",
        "print(mode_eigvectors)"
      ],
      "execution_count": null,
      "outputs": [
        {
          "output_type": "stream",
          "text": [
            "[73.37758366 79.1678083  52.18056137 42.68975084 28.22673679 14.93244917\n",
            "  0.64464113  6.19763815]\n",
            "[[-0.54864163  0.04390424 -0.22320628 -0.60812155 -0.35646357 -0.28715057\n",
            "  -0.06783137 -0.25161299]\n",
            " [ 0.70202805 -0.06799124  0.06576232 -0.0890156  -0.29173765 -0.41239405\n",
            "  -0.14245011 -0.46347989]\n",
            " [-0.42325447  0.06809106  0.19327771  0.59590592  0.14871094 -0.25398344\n",
            "  -0.21171385 -0.54066056]\n",
            " [ 0.10668217 -0.13010656 -0.40541595 -0.2627909   0.59417526  0.34120819\n",
            "  -0.32472239 -0.4041759 ]\n",
            " [ 0.01096252  0.42146349  0.56398767 -0.21024513 -0.19925758  0.49233364\n",
            "  -0.40644971 -0.1125428 ]\n",
            " [-0.08273726 -0.67750687 -0.10760342  0.20922752 -0.44581984  0.26843767\n",
            "  -0.44553209  0.09732101]\n",
            " [ 0.08675802  0.54659886 -0.54053644  0.24377253 -0.14725945 -0.13155759\n",
            "  -0.47244512  0.28266748]\n",
            " [-0.03362979 -0.19096635  0.34970799 -0.22516054  0.39053736 -0.48454771\n",
            "  -0.48778571  0.40517544]]\n"
          ],
          "name": "stdout"
        }
      ]
    },
    {
      "cell_type": "code",
      "metadata": {
        "id": "m4A0MA0ce1k0",
        "outputId": "e6fb159c-177c-43ca-d784-cbcefb154643",
        "colab": {
          "base_uri": "https://localhost:8080/",
          "height": 334
        }
      },
      "source": [
        "#sorting eigenvectors and values\n",
        "mode_eigvalues,mode_eigvectors=eig_sort(mode_eigvalues,mode_eigvectors)\n",
        "print(mode_eigvalues)\n",
        "print(mode_eigvectors)"
      ],
      "execution_count": null,
      "outputs": [
        {
          "output_type": "stream",
          "text": [
            "[79.1678083  73.37758366 52.18056137 42.68975084 28.22673679 14.93244917\n",
            "  6.19763815  0.64464113]\n",
            "[[ 0.04390424 -0.54864163 -0.22320628 -0.60812155 -0.35646357 -0.28715057\n",
            "  -0.25161299 -0.06783137]\n",
            " [-0.06799124  0.70202805  0.06576232 -0.0890156  -0.29173765 -0.41239405\n",
            "  -0.46347989 -0.14245011]\n",
            " [ 0.06809106 -0.42325447  0.19327771  0.59590592  0.14871094 -0.25398344\n",
            "  -0.54066056 -0.21171385]\n",
            " [-0.13010656  0.10668217 -0.40541595 -0.2627909   0.59417526  0.34120819\n",
            "  -0.4041759  -0.32472239]\n",
            " [ 0.42146349  0.01096252  0.56398767 -0.21024513 -0.19925758  0.49233364\n",
            "  -0.1125428  -0.40644971]\n",
            " [-0.67750687 -0.08273726 -0.10760342  0.20922752 -0.44581984  0.26843767\n",
            "   0.09732101 -0.44553209]\n",
            " [ 0.54659886  0.08675802 -0.54053644  0.24377253 -0.14725945 -0.13155759\n",
            "   0.28266748 -0.47244512]\n",
            " [-0.19096635 -0.03362979  0.34970799 -0.22516054  0.39053736 -0.48454771\n",
            "   0.40517544 -0.48778571]]\n"
          ],
          "name": "stdout"
        }
      ]
    },
    {
      "cell_type": "code",
      "metadata": {
        "id": "3jDfoe4Vofjl",
        "outputId": "802a4504-15cf-4066-9dbf-9e8e5ae2c641",
        "colab": {
          "base_uri": "https://localhost:8080/",
          "height": 298
        }
      },
      "source": [
        "print(eigvectors)"
      ],
      "execution_count": null,
      "outputs": [
        {
          "output_type": "stream",
          "text": [
            "[[-0.06918517 -0.14201335  0.44077429  0.46506881  0.53821922  0.25426334\n",
            "   0.39276789  0.23638583]\n",
            " [-0.16459114 -0.1556698   0.81348595 -0.09636105 -0.16900877 -0.198264\n",
            "  -0.33842364 -0.30859147]\n",
            " [-0.28059776 -0.52582213 -0.25294817  0.56482975 -0.36365475  0.24234015\n",
            "  -0.15135245 -0.2188138 ]\n",
            " [-0.33504301 -0.49000352  0.01888302 -0.3393166  -0.21950264 -0.27757161\n",
            "   0.27988497  0.57322543]\n",
            " [-0.38369454 -0.25259803 -0.14857563 -0.52114277  0.44494199  0.38523193\n",
            "  -0.00194887 -0.38591115]\n",
            " [-0.42518199  0.10590316 -0.20379467  0.23047968  0.45666705 -0.48514985\n",
            "  -0.4920334   0.16534693]\n",
            " [-0.45376517  0.33173727 -0.03528671  0.12131358 -0.13971697 -0.33887544\n",
            "   0.59874322 -0.41861029]\n",
            " [-0.49318373  0.50392053  0.12152023 -0.02880073 -0.27439191  0.51152343\n",
            "  -0.17136379  0.34774211]]\n"
          ],
          "name": "stdout"
        }
      ]
    },
    {
      "cell_type": "markdown",
      "metadata": {
        "id": "FZWN8Os4onKX"
      },
      "source": [
        "The principal components are different from both appraoches as eigen vectors obtained are different."
      ]
    },
    {
      "cell_type": "code",
      "metadata": {
        "id": "NGF9pW5OdJ48",
        "outputId": "360610d9-5974-4e60-e394-0833a4efd08c",
        "colab": {
          "base_uri": "https://localhost:8080/",
          "height": 369
        }
      },
      "source": [
        "# Transformed features in new subspace\n",
        "mode_trans_features=np.dot(np.dot(A_mean,mode_eigvectors),mode_eigvectors.transpose())+col_mean\n",
        "print(mode_trans_features)"
      ],
      "execution_count": null,
      "outputs": [
        {
          "output_type": "stream",
          "text": [
            "[[ 0.68013524  1.33608266  1.81360473  1.87472294  1.80682082  1.76032357\n",
            "   1.92215843  2.22916956]\n",
            " [ 0.34906547  0.76217532  0.95447343  1.2430794   1.47688745  1.82702469\n",
            "   1.99982104  2.30103276]\n",
            " [-0.60195323 -1.98135408 -2.94262458 -3.85946376 -4.63634882 -5.42338973\n",
            "  -6.09426258 -6.70517829]\n",
            " [-0.33432894 -1.10040532 -1.60364352 -2.28017462 -2.3740299  -2.38875453\n",
            "  -2.31348176 -2.257805  ]\n",
            " [ 0.02472882  0.13839763  0.15158849  0.36109623  0.65426447  0.28812424\n",
            "   0.33752928  0.54470717]\n",
            " [-0.61882789 -1.07365313 -1.54449864 -1.94748103 -2.47399496 -3.22320472\n",
            "  -3.46180909 -3.65166415]\n",
            " [-0.6177161  -1.3176702  -3.86973732 -4.2261209  -4.648645   -4.93979252\n",
            "  -4.85043458 -4.87371677]\n",
            " [-0.61738541 -0.93389234 -1.27355364 -1.61504506 -1.7641051  -1.61394637\n",
            "  -1.46983893 -1.55693033]\n",
            " [ 0.04442725 -0.22861177 -0.53911122 -0.85107703 -0.96930233 -1.00461725\n",
            "  -1.112579   -1.23250913]\n",
            " [-0.33732401 -0.75810743 -1.1165249  -1.51811182 -1.22427319 -0.94588391\n",
            "  -0.89428861 -0.64428439]]\n"
          ],
          "name": "stdout"
        }
      ]
    },
    {
      "cell_type": "code",
      "metadata": {
        "id": "w7M4kIWnfTwG",
        "outputId": "8880514c-93b1-43a7-a1ae-22a2353da292",
        "colab": {
          "base_uri": "https://localhost:8080/",
          "height": 369
        }
      },
      "source": [
        "print(transformed_features)"
      ],
      "execution_count": null,
      "outputs": [
        {
          "output_type": "stream",
          "text": [
            "[[ 0.68013524  1.33608266  1.81360473  1.87472294  1.80682082  1.76032357\n",
            "   1.92215843  2.22916956]\n",
            " [ 0.34906547  0.76217532  0.95447343  1.2430794   1.47688745  1.82702469\n",
            "   1.99982104  2.30103276]\n",
            " [-0.60195323 -1.98135408 -2.94262458 -3.85946376 -4.63634882 -5.42338973\n",
            "  -6.09426258 -6.70517829]\n",
            " [-0.33432894 -1.10040532 -1.60364352 -2.28017462 -2.3740299  -2.38875453\n",
            "  -2.31348176 -2.257805  ]\n",
            " [ 0.02472882  0.13839763  0.15158849  0.36109623  0.65426447  0.28812424\n",
            "   0.33752928  0.54470717]\n",
            " [-0.61882789 -1.07365313 -1.54449864 -1.94748103 -2.47399496 -3.22320472\n",
            "  -3.46180909 -3.65166415]\n",
            " [-0.6177161  -1.3176702  -3.86973732 -4.2261209  -4.648645   -4.93979252\n",
            "  -4.85043458 -4.87371677]\n",
            " [-0.61738541 -0.93389234 -1.27355364 -1.61504506 -1.7641051  -1.61394637\n",
            "  -1.46983893 -1.55693033]\n",
            " [ 0.04442725 -0.22861177 -0.53911122 -0.85107703 -0.96930233 -1.00461725\n",
            "  -1.112579   -1.23250913]\n",
            " [-0.33732401 -0.75810743 -1.1165249  -1.51811182 -1.22427319 -0.94588391\n",
            "  -0.89428861 -0.64428439]]\n"
          ],
          "name": "stdout"
        }
      ]
    },
    {
      "cell_type": "code",
      "metadata": {
        "id": "wQGrWzOdiKPH",
        "outputId": "047e839e-9966-4671-9449-5de603b4ed68",
        "colab": {
          "base_uri": "https://localhost:8080/",
          "height": 34
        }
      },
      "source": [
        "mode_eigvectors.shape"
      ],
      "execution_count": null,
      "outputs": [
        {
          "output_type": "execute_result",
          "data": {
            "text/plain": [
              "(8, 8)"
            ]
          },
          "metadata": {
            "tags": []
          },
          "execution_count": 41
        }
      ]
    },
    {
      "cell_type": "code",
      "metadata": {
        "id": "MkiCZwIPRYhH"
      },
      "source": [
        "# Function for calculating mean square error for mode shape approach\n",
        "def plot_modemse(r,mode_eigvectors,A_mean):\n",
        "  mode_mse=[]\n",
        "  red_featues=list(range(1,r+1))\n",
        "  for x in range(r):\n",
        "    # taking smallest eigen values corresponding eigenvectors\n",
        "    weight_mode=mode_eigvectors[:,r-x-1:r+1]\n",
        "    err=np.square(A_mean-np.dot(np.dot(A_mean,weight_mode),weight_mode.transpose())).mean()\n",
        "    mode_mse.append(err)\n",
        "  print(mode_mse)  \n",
        "  plt.plot(red_featues,mode_mse)\n",
        "  return mode_mse"
      ],
      "execution_count": null,
      "outputs": []
    },
    {
      "cell_type": "code",
      "metadata": {
        "id": "8PgAJQqVWYEQ",
        "outputId": "ff57533e-1169-4e53-842f-fc25b8f4490a",
        "colab": {
          "base_uri": "https://localhost:8080/",
          "height": 282
        }
      },
      "source": [
        "# Plotting mse for different r values and printing mse for each r value\n",
        "mode_mse=plot_modemse(n,mode_eigvectors,A_mean)"
      ],
      "execution_count": null,
      "outputs": [
        {
          "output_type": "stream",
          "text": [
            "[0.10674059832157183, 0.041240611953645354, 0.02306664196874371, 0.016971660737653386, 0.008485211744328485, 0.006958734422425334, 0.0006539468244154562, 2.1309513559616104e-30]\n"
          ],
          "name": "stdout"
        },
        {
          "output_type": "display_data",
          "data": {
            "image/png": "[encoded data removed]",
            "text/plain": [
              "<Figure size 432x288 with 1 Axes>"
            ]
          },
          "metadata": {
            "tags": [],
            "needs_background": "light"
          }
        }
      ]
    },
    {
      "cell_type": "code",
      "metadata": {
        "id": "SH3n-57rkKWL",
        "outputId": "e07f513b-2434-4834-c8c5-352abdf56792",
        "colab": {
          "base_uri": "https://localhost:8080/",
          "height": 52
        }
      },
      "source": [
        "from statistics import mean \n",
        "print(\"Mean of pca_mean square error:\",mean(pca_mse))\n",
        "print(\"Mean of mode shape approach mean square error: \",mean(mode_mse))"
      ],
      "execution_count": null,
      "outputs": [
        {
          "output_type": "stream",
          "text": [
            "Mean of pca_mean square error: 0.014027498261396694\n",
            "Mean of mode shape approach mean square error:  0.025514675746597944\n"
          ],
          "name": "stdout"
        }
      ]
    },
    {
      "cell_type": "markdown",
      "metadata": {
        "id": "VlKvCzoBkVVa"
      },
      "source": [
        "We can observe that PCA approach works better than mode shape approach when we are using Force as normal distribution."
      ]
    }
  ]
}